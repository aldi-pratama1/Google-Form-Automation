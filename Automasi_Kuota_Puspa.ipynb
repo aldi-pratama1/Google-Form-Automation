{
 "cells": [
  {
   "cell_type": "code",
   "execution_count": 128,
   "metadata": {},
   "outputs": [],
   "source": [
    "import pandas as pd\n",
    "import requests"
   ]
  },
  {
   "cell_type": "code",
   "execution_count": 129,
   "metadata": {},
   "outputs": [
    {
     "name": "stdout",
     "output_type": "stream",
     "text": [
      "['No' 'Email_Address' 'Nama_Lengkap' 'Nama_Kegiatan' 'Jenis_Kegiatan'\n",
      " 'tanggal_mulai' 'bulan_mulai' 'tahun_mulai' 'tanggal_selesai'\n",
      " 'bulan_selesai' 'tahun_selesai' 'Durasi_Pelaksanaan' 'Upload_Bukti']\n"
     ]
    }
   ],
   "source": [
    "#headers = [\"no\",\"email\",\"nama\",\"nama_kegiatan\",\"jenis_kegiatan\",\"tanggal_mulai\",\"bulan_mulai\",\"tahun_mulai\",\"tanggal_selesai\",\"bulan_selesai\",\"tahun_selesai\",\"durasi_pelaksanaan\"]\n",
    "df = pd.read_csv('https://raw.githubusercontent.com/aldi-pratama1/Google-Form-Automation/main/Dataset/test%20form_3.csv', header = 0)\n",
    "print(df.columns.values)\n",
    "print(columns[0])\n",
    "\n"
   ]
  },
  {
   "cell_type": "code",
   "execution_count": 130,
   "metadata": {},
   "outputs": [],
   "source": [
    "no = df.No.to_list()\n",
    "email = df.Email_Address.to_list()\n",
    "nama = df.Nama_Lengkap.to_list()\n",
    "nama_kegiatan = df.Nama_Kegiatan.to_list()\n",
    "jenis_kegiatan = df.Jenis_Kegiatan.to_list()\n",
    "tanggal_mulai = df.tanggal_mulai.to_list()\n",
    "bulan_mulai = df.bulan_mulai.to_list()\n",
    "tahun_mulai = df.tahun_mulai.to_list()\n",
    "tanggal_selesai = df.tanggal_selesai.to_list()\n",
    "bulan_selesai = df.bulan_selesai.to_list()\n",
    "tahun_selesai = df.tahun_selesai.to_list()\n",
    "durasi = df.Durasi_Pelaksanaan.to_list()\n",
    "\n",
    "start_record = 1\n",
    "\n",
    "i = start_record-1\n",
    "while i < no[i]:\n",
    "\n",
    "\n",
    "    import requests\n",
    "\n",
    "    headers = {\n",
    "        'authority': 'docs.google.com',\n",
    "        'cache-control': 'max-age=0',\n",
    "        'upgrade-insecure-requests': '1',\n",
    "        'origin': 'https://docs.google.com',\n",
    "        'content-type': 'application/x-www-form-urlencoded',\n",
    "        'user-agent': 'Mozilla/5.0 (Windows NT 10.0; Win64; x64) AppleWebKit/537.36 (KHTML, like Gecko) Chrome/86.0.4240.111 Safari/537.36',\n",
    "        'accept': 'text/html,application/xhtml+xml,application/xml;q=0.9,image/avif,image/webp,image/apng,*/*;q=0.8,application/signed-exchange;v=b3;q=0.9',\n",
    "        'x-chrome-connected': 'source=Chrome,id=109861963159574214330,mode=0,enable_account_consistency=false,consistency_enabled_by_default=false',\n",
    "        'x-client-data': 'CIq2yQEIpbbJAQjBtskBCKmdygEIlbjKAQisx8oBCPXHygEI58jKAQjpyMoBCLTLygEIic/KAQjb1coBCMLXygEYi8HKAQ==',\n",
    "        'sec-fetch-site': 'same-origin',\n",
    "        'sec-fetch-mode': 'navigate',\n",
    "        'sec-fetch-user': '?1',\n",
    "        'sec-fetch-dest': 'document',\n",
    "        'referer': 'https://docs.google.com/forms/d/e/1FAIpQLSeGsK5vt6YytuC-bB6ppg5kE15dShkOm-Li6RVPbUumRoncRA/viewform?fbzx=6663323972260911834',\n",
    "        'accept-language': 'en-US,en;q=0.9',\n",
    "        'cookie': 'SEARCH_SAMESITE=CgQI3pAB; CONSENT=YES+ID.id+202007; SID=2gd-keQ90uo2ujNmmqeYGeQpj6mtckVlMS8WWT0X3Awi6qkG7cAS5Kf2jX77zfPW3OGlZw.; __Secure-3PSID=2gd-keQ90uo2ujNmmqeYGeQpj6mtckVlMS8WWT0X3Awi6qkGyehj-hcZ03rkR8LzoBF-zQ.; HSID=ALBoZxketnhL1jFnh; SSID=ASYvUx0RD0TqCUEjI; APISID=h9hghE_JtzfHo-x2/AIHoYRc8SUWSvEGAD; SAPISID=e3oiXt5QZ6OmSta5/AEcjOTrWP-VnUEPSX; __Secure-3PAPISID=e3oiXt5QZ6OmSta5/AEcjOTrWP-VnUEPSX; ANID=AHWqTUmRm-VgnVo1i_zrQPlz1dVqTY2e7_dxlGuplyUfMGZSFnp4tzLSxdGAmuYb; NID=204=IeeH9XrV7RkGxdTCsvsayEAKMTEqgUPUeozQjwc-vf5nd8QyAObUAxwfAL_x7TOAaqIxLmyH4y51M59j4T_4EmeligHuuSPX1Q27nfpY2-fv5BHryyuP5kxFWMbLWFMFaNKE9uTBXR18t3IHCDEJlyOmNPBl0jTcDB0A8nqFBcSLrtQYvD5ikDjSFjdrR_zeAWfJrU6LrIn64OjDrjPX5nkKjppfuRzGSVGEXyTtQ9NZZfVE3-xGY_BHqxDBE6RQgtSF0Lqi7HgMiJafhqkTF3bZn0oufk4z2F4-TRHy2rHq-f9OEzSYnNZYftimZVD-; 1P_JAR=2020-10-24-09; SIDCC=AJi4QfEsLRSeDnz17IWhajMI1JtJtU6uS-RfZcysftM1w_6m1MHrmBr-YAfM05A8VnIlQdTmaDo; __Secure-3PSIDCC=AJi4QfGig1rjV6BWYt_pm7Jk1-tDsGN5CSNJT6uKha4yZhfCEn3IqvXjTJKetU2moYpEIc9bNQE',\n",
    "    }\n",
    "\n",
    "    data = {\n",
    "      'entry.306763205': str(nama[i]),\n",
    "      'entry.656274251': str(nama_kegiatan[i]),\n",
    "      'entry.309225544': str(durasi[i]),\n",
    "      'entry.1717546377_year': str(tahun_mulai[i]),\n",
    "      'entry.1717546377_month': str(bulan_mulai[i]),\n",
    "      'entry.1717546377_day': str(tanggal_mulai[i]),\n",
    "      'entry.416720105_year': str(tahun_selesai[i]),\n",
    "      'entry.416720105_month': str(bulan_selesai[i]),\n",
    "      'entry.416720105_day': str(tanggal_selesai[i]),\n",
    "      'entry.1974997541': str(jenis_kegiatan[i]),\n",
    "      'entry.595925460': 'Ya',\n",
    "      'emailAddress': str(email[i]),\n",
    "      'entry.1974997541_sentinel': '',\n",
    "      'entry.595925460_sentinel': '',\n",
    "      'emailReceipt': 'true',\n",
    "      'g-recaptcha-response': '03AGdBq24v-_w7H_fKXqlgH1aGDms8Q-Yr4tVg6GHdLLmuX-tEGquC1SosmOb2lJL4IY-4bejjzOymlWTm5q8QP2E6ieXTnsKLnoY0C-mi549yMcgeTQLdMcQsxRvWqLWe5Hrx9iDPmhw2mXblEKCFjuWynNdXCWxPDuIwC0Se9uJ4UxNG2URlTGiI7GI_mwfCK3ys19pwpY1M2OXHtuuFeufzzeqpkhdO5CqXlCqkDzUawnXMN1E0lMS-6YwmO9vqD5Tn1R9FklEBEfKvp65VAgJ4p87hbP74cgO5jklYtZA6wJJySFUprVEGa1RZ4zHQXymUjxHttKSUqGmWP0e3mzgX_s_3NQ_NAuh7CvvCCejoJ6-Kv1kzWs1jfAaW7mdtbRf4GFoKKCZXm-vEsybzeOUrnemkvezySK0GnfSfpMCZy85-52kF_7gOt9fTfFrwP0ybuxqOYSHH',\n",
    "      'fvv': '1',\n",
    "      'draftResponse': '[null,null,\"6663323972260911834\"]\\r\\n',\n",
    "      'pageHistory': '0',\n",
    "      'fbzx': '6663323972260911834'\n",
    "    }\n",
    "\n",
    "    response = requests.post('https://docs.google.com/forms/u/0/d/e/1FAIpQLSeGsK5vt6YytuC-bB6ppg5kE15dShkOm-Li6RVPbUumRoncRA/formResponse', headers=headers, data=data)\n",
    "\n",
    "\n",
    "    i += 1\n",
    "    \n",
    "#sleep()\n",
    "#wd.back()\n",
    "#sleep())"
   ]
  }
 ],
 "metadata": {
  "kernelspec": {
   "display_name": "Python 3",
   "language": "python",
   "name": "python3"
  },
  "language_info": {
   "codemirror_mode": {
    "name": "ipython",
    "version": 3
   },
   "file_extension": ".py",
   "mimetype": "text/x-python",
   "name": "python",
   "nbconvert_exporter": "python",
   "pygments_lexer": "ipython3",
   "version": "3.8.3"
  }
 },
 "nbformat": 4,
 "nbformat_minor": 4
}
